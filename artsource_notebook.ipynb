{
 "cells": [
  {
   "cell_type": "markdown",
   "metadata": {},
   "source": [
    "# Base"
   ]
  },
  {
   "cell_type": "code",
   "execution_count": 7,
   "metadata": {},
   "outputs": [
    {
     "name": "stdout",
     "output_type": "stream",
     "text": [
      "OpenCV:  4.1.0\n",
      "NumPy:  1.16.4\n",
      "Pandas:  0.24.2\n",
      "SKlearn:  0.21.2\n",
      "Matplotlib:  3.1.0\n",
      "SciPy:  1.2.1\n",
      "Python:  3.7.3 (default, Mar 27 2019, 17:13:21) [MSC v.1915 64 bit (AMD64)]\n"
     ]
    }
   ],
   "source": [
    "#En este bloque se importa todo lo necesario para la ejecución de operaciones relacionadas al proyecto.\n",
    "\n",
    "#Se utiliza:\n",
    "#OpenCV 2\n",
    "#Funcionalidades del Sistema Operativo (OS)\n",
    "#Funciones y parametros especificos del sistema (SYS)\n",
    "#Numpy\n",
    "#Pandas\n",
    "#Matplotlib\n",
    "#ipywidgets\n",
    "#scikit-learn\n",
    "\n",
    "#Cada celda tendrá un %%time, el cual nos ayudara a ver el tiempo de ejecución de esta, y asi poder predecir a futuro que tareas\n",
    "#requieren más recursos/son más intensivas.\n",
    "\n",
    "import os\n",
    "import sys\n",
    "import numpy as np\n",
    "import pandas as pd\n",
    "import cv2 as cv\n",
    "import matplotlib as mpl\n",
    "import matplotlib.pyplot as plt\n",
    "import sklearn as skl\n",
    "import scipy as sp\n",
    "\n",
    "import ipywidgets as widgets\n",
    "from ipywidgets import interact, interactive, fixed, interact_manual\n",
    "\n",
    "from sklearn.model_selection import KFold\n",
    "from sklearn.metrics import *\n",
    "from sklearn.decomposition import PCA\n",
    "from sklearn.pipeline import Pipeline\n",
    "from sklearn.naive_bayes import GaussianNB\n",
    "from sklearn.svm import SVC\n",
    "from sklearn.ensemble import RandomForestClassifier\n",
    "from sklearn.neighbors import KNeighborsClassifier\n",
    "from sklearn.model_selection import KFold, cross_val_score\n",
    "from sklearn.model_selection import train_test_split\n",
    "from sklearn.model_selection import GridSearchCV\n",
    "from sklearn.utils.multiclass import unique_labels\n",
    "\n",
    "print('OpenCV: ', cv.__version__)\n",
    "print('NumPy: ', np.__version__)\n",
    "print('Pandas: ', pd.__version__)\n",
    "print('SKlearn: ', skl.__version__)\n",
    "print('Matplotlib: ', mpl.__version__)\n",
    "print('SciPy: ', sp.__version__)\n",
    "print('Python: ', sys.version)\n",
    "\n",
    "%matplotlib inline"
   ]
  },
  {
   "cell_type": "code",
   "execution_count": 2,
   "metadata": {},
   "outputs": [],
   "source": [
    "#En este bloque definimos una función que nos permite observar el progreso iterativo de ciclos en jupyter, usando python\n",
    "#Fuente: https://github.com/kuk/log-progress\n",
    "\n",
    "def log_progress(sequence, every=None, size=None, name='Items'):\n",
    "    from ipywidgets import IntProgress, HTML, VBox\n",
    "    from IPython.display import display\n",
    "\n",
    "    is_iterator = False\n",
    "    if size is None:\n",
    "        try:\n",
    "            size = len(sequence)\n",
    "        except TypeError:\n",
    "            is_iterator = True\n",
    "    if size is not None:\n",
    "        if every is None:\n",
    "            if size <= 200:\n",
    "                every = 1\n",
    "            else:\n",
    "                every = int(size / 200)     # every 0.5%\n",
    "    else:\n",
    "        assert every is not None, 'sequence is iterator, set every'\n",
    "\n",
    "    if is_iterator:\n",
    "        progress = IntProgress(min=0, max=1, value=1)\n",
    "        progress.bar_style = 'info'\n",
    "    else:\n",
    "        progress = IntProgress(min=0, max=size, value=0)\n",
    "    label = HTML()\n",
    "    box = VBox(children=[label, progress])\n",
    "    display(box)\n",
    "\n",
    "    index = 0\n",
    "    try:\n",
    "        for index, record in enumerate(sequence, 1):\n",
    "            if index == 1 or index % every == 0:\n",
    "                if is_iterator:\n",
    "                    label.value = '{name}: {index} / ?'.format(\n",
    "                        name=name,\n",
    "                        index=index\n",
    "                    )\n",
    "                else:\n",
    "                    progress.value = index\n",
    "                    label.value = u'{name}: {index} / {size}'.format(\n",
    "                        name=name,\n",
    "                        index=index,\n",
    "                        size=size\n",
    "                    )\n",
    "            yield record\n",
    "    except:\n",
    "        progress.bar_style = 'danger'\n",
    "        raise\n",
    "    else:\n",
    "        progress.bar_style = 'success'\n",
    "        progress.value = index\n",
    "        label.value = \"{name}: {index}\".format(\n",
    "            name=name,\n",
    "            index=str(index or '?')\n",
    "        )"
   ]
  },
  {
   "cell_type": "code",
   "execution_count": 3,
   "metadata": {},
   "outputs": [],
   "source": [
    "def plot_confusion_matrix(y_true, y_pred, classes,\n",
    "                          normalize=False,\n",
    "                          title=None,\n",
    "                          cmap=plt.cm.Blues , prnt_cm = False):\n",
    "    \"\"\"\n",
    "    This function prints and plots the confusion matrix.\n",
    "    Normalization can be applied by setting `normalize=True`.\n",
    "    \"\"\"\n",
    "    if not title:\n",
    "        if normalize:\n",
    "            title = 'Normalized confusion matrix'\n",
    "        else:\n",
    "            title = 'Confusion matrix, without normalization'\n",
    "\n",
    "    # Compute confusion matrix\n",
    "    cm = confusion_matrix(y_true, y_pred)\n",
    "    # Only use the labels that appear in the data\n",
    "    classes = classes[unique_labels(y_true, y_pred)]\n",
    "    \n",
    "    if normalize:\n",
    "        cm = cm.astype('float') / cm.sum(axis=1)[:, np.newaxis]\n",
    "        if prnt_cm:\n",
    "            print(\"Normalized confusion matrix\")\n",
    "            print(cm)\n",
    "    else:\n",
    "        if prnt_cm:\n",
    "            print('Confusion matrix, without normalization')\n",
    "            print(cm)\n",
    "       \n",
    "\n",
    "    fig, ax = plt.subplots(figsize=(15, 15))\n",
    "    im = ax.imshow(cm, interpolation='nearest', cmap=cmap)\n",
    "    ax.figure.colorbar(im, fraction=0.046, pad=0.04)\n",
    "    # We want to show all ticks...\n",
    "    ax.set(xticks=np.arange(cm.shape[1]),\n",
    "           yticks=np.arange(cm.shape[0]),\n",
    "           # ... and label them with the respective list entries\n",
    "           xticklabels=classes, yticklabels=classes,\n",
    "           title=title,\n",
    "           ylabel='True label',\n",
    "           xlabel='Predicted label')\n",
    "\n",
    "    # Rotate the tick labels and set their alignment.\n",
    "    plt.setp(ax.get_xticklabels(), rotation=45, ha=\"right\",\n",
    "             rotation_mode=\"anchor\")\n",
    "\n",
    "    # Loop over data dimensions and create text annotations.\n",
    "    fmt = '.2f' if normalize else 'd'\n",
    "    thresh = cm.max() / 2.\n",
    "    for i in range(cm.shape[0]):\n",
    "        for j in range(cm.shape[1]):\n",
    "            ax.text(j, i, format(cm[i, j], fmt),\n",
    "                    ha=\"center\", va=\"center\",\n",
    "                    color=\"white\" if cm[i, j] > thresh else \"black\")\n",
    "    fig.tight_layout()\n",
    "    return ax"
   ]
  },
  {
   "cell_type": "code",
   "execution_count": 4,
   "metadata": {},
   "outputs": [],
   "source": [
    "#En este bloque se extrae la información del dataset, el cual no es un dataset común de datos en texto, sino un grupo de\n",
    "#imagenes organizado por carpetas, y cada carpeta está nombrada por su respectiva clase.\n",
    "\n",
    "#Luego de extraer la información se manipula con filtros, especificamente: blur gaussiano, segmentación de otsu, y\n",
    "#redimensionamiento. Luego se procede a dividir lo extraido en dos grupos, uno de entrenamiento con el 80%, y otro de prueba\n",
    "#con el 20%.\n",
    "\n",
    "#Por último, debido a limitaciones de capacidad de procesamiento, el dataset original se redujo a 100 imagenes por clase,\n",
    "#para poder realizar las pruebas en un tiempo sensible, y hacer cambios de manera rápida, por lo cual la precisión al examinar\n",
    "#los datos es generalmente baja.\n",
    "\n",
    "#Fuente del dataset: https://github.com/cs-chan/ArtGAN/tree/master/WikiArt%20Dataset\n",
    "#79306 imágenes distribuidas en 27 clases, la de menor cantidad tiene 98, y la de mayor cantidad tiene 13060\n",
    "\n",
    "def LMID(path, kernel_size, resize_by):\n",
    "    kernel_size = (kernel_size,) * 2\n",
    "    classes_names = os.listdir(path)\n",
    "    dic_imgs ={}\n",
    "    #print(classes_names)\n",
    "    for i, name_class in enumerate(classes_names):\n",
    "        dic_imgs[classes_names[i]] = np.array(os.listdir(path_classes + classes_names[i]))\n",
    "\n",
    "    X =[]\n",
    "    y =[]\n",
    "\n",
    "    for i, classes in log_progress(enumerate(['Abstract_Expressionism',\n",
    "                                 'Action_painting',\n",
    "                                 'Analytical_Cubism',\n",
    "                                 'Art_Nouveau_Modern',\n",
    "                                 'Baroque',\n",
    "                                 'Color_Field_Painting',\n",
    "                                 'Contemporary_Realism',\n",
    "                                 'Cubism',\n",
    "                                 'Early_Renaissance',\n",
    "                                 'Expressionism',\n",
    "                                 'Fauvism',\n",
    "                                 'High_Renaissance',\n",
    "                                 'Impressionism',\n",
    "                                 'Mannerism_Late_Renaissance',\n",
    "                                 'Minimalism',\n",
    "                                 'Naive_Art_Primitivism',\n",
    "                                 'New_Realism',\n",
    "                                 'Northern_Renaissance',\n",
    "                                 'Pointillism',\n",
    "                                 'Pop_Art',\n",
    "                                 'Post_Impressionism',\n",
    "                                 'Realism',\n",
    "                                 'Rococo',\n",
    "                                 'Romanticism',\n",
    "                                 'Symbolism',\n",
    "                                 'Synthetic_Cubism',\n",
    "                                 'Ukiyo_e']), every = 1):\n",
    "        print(classes)\n",
    "        for im_name in log_progress(dic_imgs[classes], every = 1):\n",
    "            path_image = path+classes+'/'+im_name\n",
    "        \n",
    "            stream = open(path_image, \"rb\") #linea para opencv en windows, borrar en ubuntu\n",
    "            bytes = bytearray(stream.read()) #linea para opencv en windows, borrar en ubuntu\n",
    "            img_array = np.asarray(bytes, dtype=np.uint8) #linea para opencv en windows, borrar en ubuntu\n",
    "            cvimg = cv.imdecode(img_array, cv.IMREAD_UNCHANGED) #linea para opencv en windows, borrar en ubuntu\n",
    "        \n",
    "            #cvimg = cv.cvtColor(cv.imread(path_image, 1), cv.COLOR_BGR2RGB) en ubuntu\n",
    "            cvblur = cv.GaussianBlur(cvimg, kernel_size, 0)\n",
    "\n",
    "            if(cvimg.shape[1] > 800 or cvimg.shape[0] > 800):\n",
    "                resize_x = int(cvimg.shape[1]/10)\n",
    "                resize_y = int(cvimg.shape[0]/10)\n",
    "                resizing_factor = (resize_by, resize_by) #(resize_x, resize_y)\n",
    "                cvresize = np.uint8(cv.resize(cvblur, resizing_factor)*1.)\n",
    "                flatt_img = cvresize.reshape(resizing_factor[0]*resizing_factor[1]*3) #(resize_x*resize_y*3)\n",
    "            else:\n",
    "                cvresize = np.uint8(cv.resize(cvblur, (resize,resize))*1.)\n",
    "                flatt_img = cvresize.reshape(resize*resize*3)\n",
    "                #flatt_img = cvimg.reshape(100*100*3) #(cvimg.shape[1]*cvimg.shape[0]*3)\n",
    "            #ret,img = cv.threshold(blur,0,255,cv.THRESH_BINARY+cv.THRESH_OTSU)\n",
    "            X.append(flatt_img)\n",
    "            y.append(i)\n",
    "\n",
    "    X = np.r_[X]        \n",
    "    y = np.r_[y]\n",
    "\n",
    "    return X, y"
   ]
  },
  {
   "cell_type": "code",
   "execution_count": 5,
   "metadata": {
    "scrolled": false
   },
   "outputs": [
    {
     "data": {
      "application/vnd.jupyter.widget-view+json": {
       "model_id": "679cc276703348e7a51250a74fb6ae60",
       "version_major": 2,
       "version_minor": 0
      },
      "text/plain": [
       "VBox(children=(HTML(value=''), IntProgress(value=1, bar_style='info', max=1)))"
      ]
     },
     "metadata": {},
     "output_type": "display_data"
    },
    {
     "name": "stdout",
     "output_type": "stream",
     "text": [
      "Abstract_Expressionism\n"
     ]
    },
    {
     "data": {
      "application/vnd.jupyter.widget-view+json": {
       "model_id": "3468425497244e87998e06987eb76a1e",
       "version_major": 2,
       "version_minor": 0
      },
      "text/plain": [
       "VBox(children=(HTML(value=''), IntProgress(value=0)))"
      ]
     },
     "metadata": {},
     "output_type": "display_data"
    },
    {
     "name": "stdout",
     "output_type": "stream",
     "text": [
      "Action_painting\n"
     ]
    },
    {
     "data": {
      "application/vnd.jupyter.widget-view+json": {
       "model_id": "07d79c13bf7c48f28b77ae460e979f6c",
       "version_major": 2,
       "version_minor": 0
      },
      "text/plain": [
       "VBox(children=(HTML(value=''), IntProgress(value=0, max=98)))"
      ]
     },
     "metadata": {},
     "output_type": "display_data"
    },
    {
     "name": "stdout",
     "output_type": "stream",
     "text": [
      "Analytical_Cubism\n"
     ]
    },
    {
     "data": {
      "application/vnd.jupyter.widget-view+json": {
       "model_id": "39eb6cf82cfd4817a351a94dd9ac6797",
       "version_major": 2,
       "version_minor": 0
      },
      "text/plain": [
       "VBox(children=(HTML(value=''), IntProgress(value=0)))"
      ]
     },
     "metadata": {},
     "output_type": "display_data"
    },
    {
     "name": "stdout",
     "output_type": "stream",
     "text": [
      "Art_Nouveau_Modern\n"
     ]
    },
    {
     "data": {
      "application/vnd.jupyter.widget-view+json": {
       "model_id": "dab27b47d8bd4a13b5b35e4403bdae44",
       "version_major": 2,
       "version_minor": 0
      },
      "text/plain": [
       "VBox(children=(HTML(value=''), IntProgress(value=0)))"
      ]
     },
     "metadata": {},
     "output_type": "display_data"
    },
    {
     "name": "stdout",
     "output_type": "stream",
     "text": [
      "Baroque\n"
     ]
    },
    {
     "data": {
      "application/vnd.jupyter.widget-view+json": {
       "model_id": "4a793c64bb074f608e2bd544e1b48207",
       "version_major": 2,
       "version_minor": 0
      },
      "text/plain": [
       "VBox(children=(HTML(value=''), IntProgress(value=0)))"
      ]
     },
     "metadata": {},
     "output_type": "display_data"
    },
    {
     "name": "stdout",
     "output_type": "stream",
     "text": [
      "Color_Field_Painting\n"
     ]
    },
    {
     "data": {
      "application/vnd.jupyter.widget-view+json": {
       "model_id": "4b01926426e244b99cf1c2f618a38a03",
       "version_major": 2,
       "version_minor": 0
      },
      "text/plain": [
       "VBox(children=(HTML(value=''), IntProgress(value=0)))"
      ]
     },
     "metadata": {},
     "output_type": "display_data"
    },
    {
     "name": "stdout",
     "output_type": "stream",
     "text": [
      "Contemporary_Realism\n"
     ]
    },
    {
     "data": {
      "application/vnd.jupyter.widget-view+json": {
       "model_id": "3ecaf164221249a5b55f6e012216c615",
       "version_major": 2,
       "version_minor": 0
      },
      "text/plain": [
       "VBox(children=(HTML(value=''), IntProgress(value=0)))"
      ]
     },
     "metadata": {},
     "output_type": "display_data"
    },
    {
     "name": "stdout",
     "output_type": "stream",
     "text": [
      "Cubism\n"
     ]
    },
    {
     "data": {
      "application/vnd.jupyter.widget-view+json": {
       "model_id": "303bfd2649324254b60d57b3be532e48",
       "version_major": 2,
       "version_minor": 0
      },
      "text/plain": [
       "VBox(children=(HTML(value=''), IntProgress(value=0)))"
      ]
     },
     "metadata": {},
     "output_type": "display_data"
    },
    {
     "name": "stdout",
     "output_type": "stream",
     "text": [
      "Early_Renaissance\n"
     ]
    },
    {
     "data": {
      "application/vnd.jupyter.widget-view+json": {
       "model_id": "b3658f9cf4314c0e90d3e99275928dc4",
       "version_major": 2,
       "version_minor": 0
      },
      "text/plain": [
       "VBox(children=(HTML(value=''), IntProgress(value=0)))"
      ]
     },
     "metadata": {},
     "output_type": "display_data"
    },
    {
     "name": "stdout",
     "output_type": "stream",
     "text": [
      "Expressionism\n"
     ]
    },
    {
     "data": {
      "application/vnd.jupyter.widget-view+json": {
       "model_id": "3a4a3b00b84f4a42afc5f8da132e26e6",
       "version_major": 2,
       "version_minor": 0
      },
      "text/plain": [
       "VBox(children=(HTML(value=''), IntProgress(value=0)))"
      ]
     },
     "metadata": {},
     "output_type": "display_data"
    },
    {
     "name": "stdout",
     "output_type": "stream",
     "text": [
      "Fauvism\n"
     ]
    },
    {
     "data": {
      "application/vnd.jupyter.widget-view+json": {
       "model_id": "e035a5ff1efe419a92ec845ea8e8b7f4",
       "version_major": 2,
       "version_minor": 0
      },
      "text/plain": [
       "VBox(children=(HTML(value=''), IntProgress(value=0)))"
      ]
     },
     "metadata": {},
     "output_type": "display_data"
    },
    {
     "name": "stdout",
     "output_type": "stream",
     "text": [
      "High_Renaissance\n"
     ]
    },
    {
     "data": {
      "application/vnd.jupyter.widget-view+json": {
       "model_id": "b2f27e21119c423c8ea0d724b0840c7a",
       "version_major": 2,
       "version_minor": 0
      },
      "text/plain": [
       "VBox(children=(HTML(value=''), IntProgress(value=0)))"
      ]
     },
     "metadata": {},
     "output_type": "display_data"
    },
    {
     "name": "stdout",
     "output_type": "stream",
     "text": [
      "Impressionism\n"
     ]
    },
    {
     "data": {
      "application/vnd.jupyter.widget-view+json": {
       "model_id": "12196b312c724ae79391263aba71f34f",
       "version_major": 2,
       "version_minor": 0
      },
      "text/plain": [
       "VBox(children=(HTML(value=''), IntProgress(value=0)))"
      ]
     },
     "metadata": {},
     "output_type": "display_data"
    },
    {
     "name": "stdout",
     "output_type": "stream",
     "text": [
      "Mannerism_Late_Renaissance\n"
     ]
    },
    {
     "data": {
      "application/vnd.jupyter.widget-view+json": {
       "model_id": "38c4e3dbd80844c286d4233f52e83574",
       "version_major": 2,
       "version_minor": 0
      },
      "text/plain": [
       "VBox(children=(HTML(value=''), IntProgress(value=0)))"
      ]
     },
     "metadata": {},
     "output_type": "display_data"
    },
    {
     "name": "stdout",
     "output_type": "stream",
     "text": [
      "Minimalism\n"
     ]
    },
    {
     "data": {
      "application/vnd.jupyter.widget-view+json": {
       "model_id": "c8ed2a063c8b417ab7725652a9cfd948",
       "version_major": 2,
       "version_minor": 0
      },
      "text/plain": [
       "VBox(children=(HTML(value=''), IntProgress(value=0)))"
      ]
     },
     "metadata": {},
     "output_type": "display_data"
    },
    {
     "name": "stdout",
     "output_type": "stream",
     "text": [
      "Naive_Art_Primitivism\n"
     ]
    },
    {
     "data": {
      "application/vnd.jupyter.widget-view+json": {
       "model_id": "e8d4fc18f5744e3e898244e24d4c06ab",
       "version_major": 2,
       "version_minor": 0
      },
      "text/plain": [
       "VBox(children=(HTML(value=''), IntProgress(value=0)))"
      ]
     },
     "metadata": {},
     "output_type": "display_data"
    },
    {
     "name": "stdout",
     "output_type": "stream",
     "text": [
      "New_Realism\n"
     ]
    },
    {
     "data": {
      "application/vnd.jupyter.widget-view+json": {
       "model_id": "df076c0870b8416a970ea54e6d3b9c06",
       "version_major": 2,
       "version_minor": 0
      },
      "text/plain": [
       "VBox(children=(HTML(value=''), IntProgress(value=0)))"
      ]
     },
     "metadata": {},
     "output_type": "display_data"
    },
    {
     "name": "stdout",
     "output_type": "stream",
     "text": [
      "Northern_Renaissance\n"
     ]
    },
    {
     "data": {
      "application/vnd.jupyter.widget-view+json": {
       "model_id": "ba7b85976cd24ce19f7e1691586eeb66",
       "version_major": 2,
       "version_minor": 0
      },
      "text/plain": [
       "VBox(children=(HTML(value=''), IntProgress(value=0)))"
      ]
     },
     "metadata": {},
     "output_type": "display_data"
    },
    {
     "name": "stdout",
     "output_type": "stream",
     "text": [
      "Pointillism\n"
     ]
    },
    {
     "data": {
      "application/vnd.jupyter.widget-view+json": {
       "model_id": "bd286b8ca07546c18704e20315e94d3d",
       "version_major": 2,
       "version_minor": 0
      },
      "text/plain": [
       "VBox(children=(HTML(value=''), IntProgress(value=0)))"
      ]
     },
     "metadata": {},
     "output_type": "display_data"
    },
    {
     "name": "stdout",
     "output_type": "stream",
     "text": [
      "Pop_Art\n"
     ]
    },
    {
     "data": {
      "application/vnd.jupyter.widget-view+json": {
       "model_id": "aa5b873426a340f78ea42ea05ec47870",
       "version_major": 2,
       "version_minor": 0
      },
      "text/plain": [
       "VBox(children=(HTML(value=''), IntProgress(value=0)))"
      ]
     },
     "metadata": {},
     "output_type": "display_data"
    },
    {
     "name": "stdout",
     "output_type": "stream",
     "text": [
      "Post_Impressionism\n"
     ]
    },
    {
     "data": {
      "application/vnd.jupyter.widget-view+json": {
       "model_id": "67f16e305ea14045a7806574798d0b0c",
       "version_major": 2,
       "version_minor": 0
      },
      "text/plain": [
       "VBox(children=(HTML(value=''), IntProgress(value=0)))"
      ]
     },
     "metadata": {},
     "output_type": "display_data"
    },
    {
     "name": "stdout",
     "output_type": "stream",
     "text": [
      "Realism\n"
     ]
    },
    {
     "data": {
      "application/vnd.jupyter.widget-view+json": {
       "model_id": "a55838970b014e7fa759ab10c0339e4f",
       "version_major": 2,
       "version_minor": 0
      },
      "text/plain": [
       "VBox(children=(HTML(value=''), IntProgress(value=0)))"
      ]
     },
     "metadata": {},
     "output_type": "display_data"
    },
    {
     "name": "stdout",
     "output_type": "stream",
     "text": [
      "Rococo\n"
     ]
    },
    {
     "data": {
      "application/vnd.jupyter.widget-view+json": {
       "model_id": "ddc6c492bd26411b9f30c66ee4848ffa",
       "version_major": 2,
       "version_minor": 0
      },
      "text/plain": [
       "VBox(children=(HTML(value=''), IntProgress(value=0)))"
      ]
     },
     "metadata": {},
     "output_type": "display_data"
    },
    {
     "name": "stdout",
     "output_type": "stream",
     "text": [
      "Romanticism\n"
     ]
    },
    {
     "data": {
      "application/vnd.jupyter.widget-view+json": {
       "model_id": "ec8df07af3f04e05b7b7388ec21f0f91",
       "version_major": 2,
       "version_minor": 0
      },
      "text/plain": [
       "VBox(children=(HTML(value=''), IntProgress(value=0)))"
      ]
     },
     "metadata": {},
     "output_type": "display_data"
    },
    {
     "name": "stdout",
     "output_type": "stream",
     "text": [
      "Symbolism\n"
     ]
    },
    {
     "data": {
      "application/vnd.jupyter.widget-view+json": {
       "model_id": "eeb4e9f2f4344dc68f0fd4db69b26e2a",
       "version_major": 2,
       "version_minor": 0
      },
      "text/plain": [
       "VBox(children=(HTML(value=''), IntProgress(value=0)))"
      ]
     },
     "metadata": {},
     "output_type": "display_data"
    },
    {
     "name": "stdout",
     "output_type": "stream",
     "text": [
      "Synthetic_Cubism\n"
     ]
    },
    {
     "data": {
      "application/vnd.jupyter.widget-view+json": {
       "model_id": "2019e1b803954d74a6496b97508ce536",
       "version_major": 2,
       "version_minor": 0
      },
      "text/plain": [
       "VBox(children=(HTML(value=''), IntProgress(value=0)))"
      ]
     },
     "metadata": {},
     "output_type": "display_data"
    },
    {
     "name": "stdout",
     "output_type": "stream",
     "text": [
      "Ukiyo_e\n"
     ]
    },
    {
     "data": {
      "application/vnd.jupyter.widget-view+json": {
       "model_id": "2656228d2c43417aa92bb03c4fe59a55",
       "version_major": 2,
       "version_minor": 0
      },
      "text/plain": [
       "VBox(children=(HTML(value=''), IntProgress(value=0)))"
      ]
     },
     "metadata": {},
     "output_type": "display_data"
    }
   ],
   "source": [
    "path_classes = 'artsource_dataset/'\n",
    "ker_size = 15\n",
    "resize = 200\n",
    "class_names = np.r_[os.listdir(path_classes)]\n",
    "\n",
    "X, y = LMID(path_classes, ker_size, resize)"
   ]
  },
  {
   "cell_type": "markdown",
   "metadata": {},
   "source": [
    "# KNN, GaussianNB, Random Forest, & SVM"
   ]
  },
  {
   "cell_type": "code",
   "execution_count": 15,
   "metadata": {},
   "outputs": [
    {
     "name": "stdout",
     "output_type": "stream",
     "text": [
      "(2698, 120000)\n",
      "0.10925925925925926\n"
     ]
    },
    {
     "name": "stderr",
     "output_type": "stream",
     "text": [
      "D:\\anaconda\\lib\\site-packages\\ipykernel_launcher.py:20: MatplotlibDeprecationWarning: Adding an axes using the same arguments as a previous axes currently reuses the earlier instance.  In a future version, a new instance will always be created and returned.  Meanwhile, this warning can be suppressed, and the future behavior ensured, by passing a unique label to each axes instance.\n"
     ]
    },
    {
     "data": {
      "image/png": "[encoded data removed]",
      "text/plain": [
       "<Figure size 1224x288 with 2 Axes>"
      ]
     },
     "metadata": {
      "needs_background": "light"
     },
     "output_type": "display_data"
    }
   ],
   "source": [
    "#En este bloque se importa el clasificador KNN, y se prosigue a realizar la clasificación con los dos grupos anteriores de\n",
    "#entrenamiento y prueba, con los 10 vecinos más cercanos. Últimamente, para visualizar los resultados y su precisión, se imprime\n",
    "#la matriz de confusión.\n",
    "\n",
    "knn = KNeighborsClassifier(n_neighbors=21) #21 vecinos es lo mas óptimo\n",
    "print(X.shape)\n",
    "knn.fit(X_train, y_train)\n",
    "print(neigh.score(X_test, y_test))\n",
    "\n",
    "\n",
    "\n",
    "pred_train = knn.predict(X_train)\n",
    "pred_test  = knn.predict(X_test)\n",
    "\n",
    "cm_train_knn = confusion_matrix(y_train, pred_train)\n",
    "cm_test_knn = confusion_matrix(y_test, pred_test)\n",
    "\n",
    "plt.figure(figsize=(17,4))\n",
    "plt.subplot(132),plt.imshow(cm_test_knn, interpolation=\"nearest\", cmap=plt.cm.Blues);\n",
    "plt.subplot(133),plt.colorbar();"
   ]
  },
  {
   "cell_type": "code",
   "execution_count": 10,
   "metadata": {
    "scrolled": true
   },
   "outputs": [
    {
     "data": {
      "application/vnd.jupyter.widget-view+json": {
       "model_id": "c57bb98b28b24ab095db048fd4522f29",
       "version_major": 2,
       "version_minor": 0
      },
      "text/plain": [
       "VBox(children=(HTML(value=''), IntProgress(value=0, max=30)))"
      ]
     },
     "metadata": {},
     "output_type": "display_data"
    },
    {
     "name": "stdout",
     "output_type": "stream",
     "text": [
      "0.10555555555555556\n",
      "0.07407407407407407\n",
      "0.07777777777777778\n",
      "0.08333333333333333\n",
      "0.09074074074074075\n",
      "0.1037037037037037\n",
      "0.0962962962962963\n",
      "0.1\n",
      "0.10740740740740741\n",
      "0.1111111111111111\n",
      "0.10555555555555556\n",
      "0.10185185185185185\n",
      "0.10740740740740741\n",
      "0.1111111111111111\n",
      "0.11666666666666667\n",
      "0.11851851851851852\n",
      "0.12222222222222222\n",
      "0.11481481481481481\n",
      "0.11851851851851852\n",
      "0.11851851851851852\n",
      "0.12777777777777777\n",
      "0.12037037037037036\n",
      "0.12407407407407407\n",
      "0.12222222222222222\n",
      "0.11851851851851852\n",
      "0.12037037037037036\n",
      "0.11851851851851852\n",
      "0.11666666666666667\n",
      "0.11296296296296296\n",
      "0.11666666666666667\n"
     ]
    },
    {
     "data": {
      "text/plain": [
       "[<matplotlib.lines.Line2D at 0x2b98e8e3278>]"
      ]
     },
     "execution_count": 10,
     "metadata": {},
     "output_type": "execute_result"
    },
    {
     "data": {
      "image/png": "[encoded data removed]",
      "text/plain": [
       "<Figure size 432x288 with 1 Axes>"
      ]
     },
     "metadata": {
      "needs_background": "light"
     },
     "output_type": "display_data"
    }
   ],
   "source": [
    "#En este bloque, por curiosidad de saber que número de vecinos da mejores resultados al aplicar KNN, se hizo una prueba con\n",
    "#su cantidad variando desde 1 hasta 20.\n",
    "test_size = 0.2\n",
    "\n",
    "X_train, X_test, y_train, y_test = train_test_split(X,y,test_size=test_size)\n",
    "\n",
    "neighbors = np.linspace(1,30,30)\n",
    "accuracy = []\n",
    "for i in log_progress(range(30), every = 1):\n",
    "    neigh = KNeighborsClassifier(n_neighbors = i+1)\n",
    "    neigh.fit(X_train, y_train)\n",
    "    accuracy.append(neigh.score(X_test, y_test))\n",
    "    print(accuracy[i])\n",
    "plt.plot(neighbors, accuracy)"
   ]
  },
  {
   "cell_type": "code",
   "execution_count": null,
   "metadata": {},
   "outputs": [],
   "source": [
    "test_size = 0.25\n",
    "\n",
    "d_train, d_test, c_train, c_test = train_test_split(X,y,test_size=test_size)\n",
    "\n",
    "print(\"Dimensiones en Train\", d_train.shape, c_train.shape)\n",
    "print(\"Dimensiones en Test\", d_test.shape, c_test.shape)\n",
    "\n",
    "g = GaussianNB()\n",
    "g.fit(d_train, c_train)\n",
    "print(\"Precisión en Train\", g.score(d_train, c_train))\n",
    "print(\"Precisión en Test\", g.score(d_test, c_test))\n",
    "\n",
    "pred_train = g.predict(d_train)\n",
    "pred_test  = g.predict(d_test)\n",
    "\n",
    "cm_train = confusion_matrix(c_train, pred_train)\n",
    "cm_test = confusion_matrix(c_test, pred_test)\n",
    "print(\"Número de Imagenes por Clase en Test\")\n",
    "print(np.sum(cm_test, axis=1))\n",
    "\n",
    "plt.figure(figsize=(17,4))\n",
    "plt.subplot(141), plt.title('Matríz de Confusión en Train'), plt.imshow(cm_train, interpolation=\"nearest\", cmap=plt.cm.Blues);\n",
    "plt.subplot(141), plt.colorbar();\n",
    "plt.subplot(142), plt.title('Matríz de Confusión en Test'), plt.imshow(cm_test, interpolation=\"nearest\", cmap=plt.cm.Blues);\n",
    "plt.subplot(142), plt.colorbar();"
   ]
  },
  {
   "cell_type": "code",
   "execution_count": 9,
   "metadata": {},
   "outputs": [
    {
     "name": "stdout",
     "output_type": "stream",
     "text": [
      "Dimensiones en Train (2023, 120000) (2023,)\n",
      "Dimensiones en Test (675, 120000) (675,)\n"
     ]
    },
    {
     "ename": "NameError",
     "evalue": "name 'g' is not defined",
     "output_type": "error",
     "traceback": [
      "\u001b[1;31m---------------------------------------------------------------------------\u001b[0m",
      "\u001b[1;31mNameError\u001b[0m                                 Traceback (most recent call last)",
      "\u001b[1;32m<ipython-input-9-519db3476077>\u001b[0m in \u001b[0;36m<module>\u001b[1;34m\u001b[0m\n\u001b[0;32m      8\u001b[0m \u001b[0mrf\u001b[0m \u001b[1;33m=\u001b[0m \u001b[0mRandomForestClassifier\u001b[0m\u001b[1;33m(\u001b[0m\u001b[0mn_estimators\u001b[0m \u001b[1;33m=\u001b[0m \u001b[1;36m100\u001b[0m\u001b[1;33m)\u001b[0m\u001b[1;33m\u001b[0m\u001b[1;33m\u001b[0m\u001b[0m\n\u001b[0;32m      9\u001b[0m \u001b[0mrf\u001b[0m\u001b[1;33m.\u001b[0m\u001b[0mfit\u001b[0m\u001b[1;33m(\u001b[0m\u001b[0md_train\u001b[0m\u001b[1;33m,\u001b[0m \u001b[0mc_train\u001b[0m\u001b[1;33m)\u001b[0m\u001b[1;33m\u001b[0m\u001b[1;33m\u001b[0m\u001b[0m\n\u001b[1;32m---> 10\u001b[1;33m \u001b[0mprint\u001b[0m\u001b[1;33m(\u001b[0m\u001b[1;34m\"Precisión en Train\"\u001b[0m\u001b[1;33m,\u001b[0m \u001b[0mg\u001b[0m\u001b[1;33m.\u001b[0m\u001b[0mscore\u001b[0m\u001b[1;33m(\u001b[0m\u001b[0md_train\u001b[0m\u001b[1;33m,\u001b[0m \u001b[0mc_train\u001b[0m\u001b[1;33m)\u001b[0m\u001b[1;33m)\u001b[0m\u001b[1;33m\u001b[0m\u001b[1;33m\u001b[0m\u001b[0m\n\u001b[0m\u001b[0;32m     11\u001b[0m \u001b[0mprint\u001b[0m\u001b[1;33m(\u001b[0m\u001b[1;34m\"Precisión en Test\"\u001b[0m\u001b[1;33m,\u001b[0m \u001b[0mg\u001b[0m\u001b[1;33m.\u001b[0m\u001b[0mscore\u001b[0m\u001b[1;33m(\u001b[0m\u001b[0md_test\u001b[0m\u001b[1;33m,\u001b[0m \u001b[0mc_test\u001b[0m\u001b[1;33m)\u001b[0m\u001b[1;33m)\u001b[0m\u001b[1;33m\u001b[0m\u001b[1;33m\u001b[0m\u001b[0m\n\u001b[0;32m     12\u001b[0m \u001b[1;33m\u001b[0m\u001b[0m\n",
      "\u001b[1;31mNameError\u001b[0m: name 'g' is not defined"
     ]
    }
   ],
   "source": [
    "test_size = 0.25\n",
    "\n",
    "d_train, d_test, c_train, c_test = train_test_split(X,y,test_size=test_size)\n",
    "\n",
    "print(\"Dimensiones en Train\", d_train.shape, c_train.shape)\n",
    "print(\"Dimensiones en Test\", d_test.shape, c_test.shape)\n",
    "\n",
    "rf = RandomForestClassifier(n_estimators = 100)\n",
    "rf.fit(d_train, c_train)\n",
    "print(\"Precisión en Train\", g.score(d_train, c_train))\n",
    "print(\"Precisión en Test\", g.score(d_test, c_test))\n",
    "\n",
    "pred_train = r.predict(d_train)\n",
    "pred_test  = f.predict(d_test)\n",
    "\n",
    "#cm_train = confusion_matrix(c_train, pred_train)\n",
    "#cm_test = confusion_matrix(c_test, pred_test)\n",
    "#print(\"Número de Imagenes por Clase en Test\")\n",
    "#print(np.sum(cm_test, axis=1))\n",
    "\n",
    "np.set_printoptions(precision=2)\n",
    "\n",
    "plot_confusion_matrix(y_true = c_train,\n",
    "                      y_pred = pred_train,\n",
    "                      classes = class_names,\n",
    "                      title = 'Train Confusion matrix, without normalization',\n",
    "                      normalize = False,\n",
    "                      cmap = plt.cm.YlGn,\n",
    "                      prnt_cm = False)\n",
    "\n",
    "plot_confusion_matrix(y_true = c_test,\n",
    "                      y_pred = pred_test,\n",
    "                      classes = class_names,\n",
    "                      title = 'Test Confusion matrix, without normalization',\n",
    "                      normalize = False,\n",
    "                      cmap = plt.cm.YlGn,\n",
    "                      prnt_cm = False)\n",
    "plt.show()"
   ]
  },
  {
   "cell_type": "markdown",
   "metadata": {},
   "source": [
    "### Pipelines"
   ]
  },
  {
   "cell_type": "code",
   "execution_count": 11,
   "metadata": {},
   "outputs": [
    {
     "name": "stdout",
     "output_type": "stream",
     "text": [
      "accuracy 0.188 (+/- 0.01733)\n"
     ]
    }
   ],
   "source": [
    "p = Pipeline(((\"pca\", PCA(n_components=100)), (\"classifier\", RandomForestClassifier(n_estimators = 100)) ))\n",
    "s = cross_val_score(p, X, y, cv=KFold(5, shuffle=True), scoring=make_scorer(accuracy_score))\n",
    "print(\"accuracy %.3f (+/- %.5f)\"%(np.mean(s), np.std(s)))"
   ]
  },
  {
   "cell_type": "code",
   "execution_count": 12,
   "metadata": {},
   "outputs": [
    {
     "name": "stdout",
     "output_type": "stream",
     "text": [
      "accuracy 0.185 (+/- 0.01302)\n"
     ]
    }
   ],
   "source": [
    "p = Pipeline(((\"pca\", PCA(n_components=100)), (\"classifier\", GaussianNB()) ))\n",
    "s = cross_val_score(p, X, y, cv=KFold(5, shuffle=True), scoring=make_scorer(accuracy_score))\n",
    "print(\"accuracy %.3f (+/- %.5f)\"%(np.mean(s), np.std(s)))"
   ]
  },
  {
   "cell_type": "code",
   "execution_count": null,
   "metadata": {},
   "outputs": [
    {
     "name": "stderr",
     "output_type": "stream",
     "text": [
      "D:\\anaconda\\lib\\site-packages\\sklearn\\svm\\base.py:193: FutureWarning: The default value of gamma will change from 'auto' to 'scale' in version 0.22 to account better for unscaled features. Set gamma explicitly to 'auto' or 'scale' to avoid this warning.\n",
      "  \"avoid this warning.\", FutureWarning)\n"
     ]
    }
   ],
   "source": [
    "p = Pipeline(((\"pca\", PCA(n_components=100)), (\"classifier\", SVC(kernel = 'poly', gamma = 'scale')) ))\n",
    "s = cross_val_score(p, X, y, cv=KFold(5, shuffle=True), scoring=make_scorer(accuracy_score))\n",
    "print(\"accuracy %.3f (+/- %.5f)\"%(np.mean(s), np.std(s)))"
   ]
  },
  {
   "cell_type": "code",
   "execution_count": null,
   "metadata": {},
   "outputs": [],
   "source": [
    "p = Pipeline(((\"pca\", PCA(n_components=100)), (\"classifier\", SVC(kernel = 'rbf', gamma = 'scale')) ))\n",
    "s = cross_val_score(p, X, y, cv=KFold(5, shuffle=True), scoring=make_scorer(accuracy_score))\n",
    "print(\"accuracy %.3f (+/- %.5f)\"%(np.mean(s), np.std(s)))"
   ]
  },
  {
   "cell_type": "code",
   "execution_count": null,
   "metadata": {},
   "outputs": [],
   "source": [
    "p = Pipeline(((\"pca\", PCA(n_components=100)), (\"classifier\", SVC(kernel = 'sigmoid', gamma = 'scale')) ))\n",
    "s = cross_val_score(p, X, y, cv=KFold(5, shuffle=True), scoring=make_scorer(accuracy_score))\n",
    "print(\"accuracy %.3f (+/- %.5f)\"%(np.mean(s), np.std(s)))"
   ]
  },
  {
   "cell_type": "code",
   "execution_count": null,
   "metadata": {},
   "outputs": [],
   "source": [
    "p = Pipeline(((\"pca\", PCA(n_components=100)), (\"classifier\", SVC(kernel = 'linear', gamma = 'scale')) ))\n",
    "s = cross_val_score(p, X, y, cv=KFold(5, shuffle=True), scoring=make_scorer(accuracy_score))\n",
    "print(\"accuracy %.3f (+/- %.5f)\"%(np.mean(s), np.std(s)))"
   ]
  },
  {
   "cell_type": "code",
   "execution_count": null,
   "metadata": {},
   "outputs": [],
   "source": [
    "n_components = range(100,1000,100)\n",
    "means, stds = [], []\n",
    "\n",
    "for n in n_components:\n",
    "    print n,\n",
    "    p = Pipeline(((\"pca\", PCA(n_components=n)), (\"classifier\", GaussianNB()) ))\n",
    "    s = cross_val_score(p, X, y, cv=KFold(5, shuffle=True), scoring=make_scorer(accuracy_score))\n",
    "    means.append(np.mean(s))\n",
    "    stds.append(np.std(s))\n",
    "means = np.r_[means]\n",
    "stds  = np.r_[stds]\n",
    "\n",
    "plt.plot(n_components, means, color=\"black\")\n",
    "plt.fill_between(n_components, means-stds, means+stds, color=\"blue\", alpha=.5)\n",
    "plt.xlabel(\"number of PCA componets\")\n",
    "plt.ylabel(\"accuracy\")\n",
    "plt.title(\"GaussianNB\")"
   ]
  },
  {
   "cell_type": "code",
   "execution_count": 16,
   "metadata": {
    "scrolled": true
   },
   "outputs": [
    {
     "name": "stdout",
     "output_type": "stream",
     "text": [
      "100\n",
      "200\n",
      "300\n",
      "400\n",
      "500\n",
      "600\n",
      "700\n",
      "800\n",
      "900\n"
     ]
    },
    {
     "data": {
      "text/plain": [
       "Text(0.5, 1.0, 'RF')"
      ]
     },
     "execution_count": 16,
     "metadata": {},
     "output_type": "execute_result"
    },
    {
     "data": {
      "image/png": "[encoded data removed]",
      "text/plain": [
       "<Figure size 432x288 with 1 Axes>"
      ]
     },
     "metadata": {
      "needs_background": "light"
     },
     "output_type": "display_data"
    }
   ],
   "source": [
    "n_components = range(100,1000,100)\n",
    "means, stds = [], []\n",
    "\n",
    "for n in n_components:\n",
    "    print(n),\n",
    "    p = Pipeline(((\"pca\", PCA(n_components=n)), (\"classifier\", g) ))\n",
    "    s = cross_val_score(p, X, y, cv=KFold(5, shuffle=True), scoring=make_scorer(accuracy_score))\n",
    "    means.append(np.mean(s))\n",
    "    stds.append(np.std(s))\n",
    "means = np.r_[means]\n",
    "stds  = np.r_[stds]\n",
    "\n",
    "plt.plot(n_components, means, color=\"black\")\n",
    "plt.fill_between(n_components, means-stds, means+stds, color=\"blue\", alpha=.5)\n",
    "plt.xlabel(\"number of PCA componets\")\n",
    "plt.ylabel(\"accuracy\")\n",
    "plt.title(\"RF\")"
   ]
  },
  {
   "cell_type": "markdown",
   "metadata": {},
   "source": [
    "### GridSearch"
   ]
  },
  {
   "cell_type": "code",
   "execution_count": null,
   "metadata": {},
   "outputs": [],
   "source": [
    "trees = range(50, 150)\n",
    "depth = range(50, 150)\n",
    "criteria = ['gini', 'entropy']\n",
    "\n",
    "dict_grid = dict(n_estimators = trees, criterion = criteria, max_depth = depth)\n",
    "\n",
    "grid = GridSearchCV(rf, dict_grid, cv = 5, scoring = 'accuracy', return_train_score = False, n_jobs= -1)\n",
    "grid.fit(d_test, c_test)\n",
    "\n",
    "pd.DataFrame(grid.cv_results_)[['mean_test_score', 'std_test_score', 'params']]\n",
    "\n",
    "print(grid.best_score_)\n",
    "print(grid.best_params_)"
   ]
  },
  {
   "cell_type": "markdown",
   "metadata": {},
   "source": [
    "### KEYPOINTS ###"
   ]
  },
  {
   "cell_type": "code",
   "execution_count": null,
   "metadata": {},
   "outputs": [],
   "source": []
  }
 ],
 "metadata": {
  "kernelspec": {
   "display_name": "Python 3",
   "language": "python",
   "name": "python3"
  },
  "language_info": {
   "codemirror_mode": {
    "name": "ipython",
    "version": 3
   },
   "file_extension": ".py",
   "mimetype": "text/x-python",
   "name": "python",
   "nbconvert_exporter": "python",
   "pygments_lexer": "ipython3",
   "version": "3.7.3"
  }
 },
 "nbformat": 4,
 "nbformat_minor": 2
}
